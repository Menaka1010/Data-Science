{
 "cells": [
  {
   "cell_type": "raw",
   "id": "32047fc9",
   "metadata": {},
   "source": [
    "1. Given Integer number array nums, return true if any value appears twice in the array, return false if the element is distinct"
   ]
  },
  {
   "cell_type": "code",
   "execution_count": 1,
   "id": "848bfd9d",
   "metadata": {},
   "outputs": [],
   "source": [
    "def isduplicate(nums):\n",
    "    n =len(nums)\n",
    "    for i in range(0,n-1):\n",
    "        for j in range(i+1,n):\n",
    "            if nums[i] == nums[j]:\n",
    "                return True\n",
    "    return False"
   ]
  },
  {
   "cell_type": "code",
   "execution_count": 13,
   "id": "cf7da4a3",
   "metadata": {},
   "outputs": [],
   "source": [
    "def isduplicate(nums):\n",
    "    numset=set()\n",
    "    for num in nums:\n",
    "        if num in numset:\n",
    "            return True\n",
    "        else:\n",
    "            numset.add(num)\n",
    "    return False"
   ]
  },
  {
   "cell_type": "code",
   "execution_count": 16,
   "id": "7e98a64b",
   "metadata": {},
   "outputs": [],
   "source": [
    "def isduplicate(nums):\n",
    "    return len(nums) != len(set(nums))"
   ]
  },
  {
   "cell_type": "code",
   "execution_count": 2,
   "id": "f86b2d05",
   "metadata": {},
   "outputs": [
    {
     "data": {
      "text/plain": [
       "True"
      ]
     },
     "execution_count": 2,
     "metadata": {},
     "output_type": "execute_result"
    }
   ],
   "source": [
    "isduplicate([1,2,3,4,2])"
   ]
  },
  {
   "cell_type": "code",
   "execution_count": null,
   "id": "74c5fa9c",
   "metadata": {},
   "outputs": [],
   "source": []
  }
 ],
 "metadata": {
  "kernelspec": {
   "display_name": "Python 3 (ipykernel)",
   "language": "python",
   "name": "python3"
  },
  "language_info": {
   "codemirror_mode": {
    "name": "ipython",
    "version": 3
   },
   "file_extension": ".py",
   "mimetype": "text/x-python",
   "name": "python",
   "nbconvert_exporter": "python",
   "pygments_lexer": "ipython3",
   "version": "3.9.13"
  }
 },
 "nbformat": 4,
 "nbformat_minor": 5
}
