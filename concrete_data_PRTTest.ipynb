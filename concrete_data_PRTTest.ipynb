{
 "cells": [
  {
   "cell_type": "code",
   "execution_count": 1,
   "id": "54fd3973",
   "metadata": {},
   "outputs": [],
   "source": [
    "import pandas as pd\n",
    "import numpy as np\n",
    "import seaborn as sns\n",
    "import matplotlib.pyplot as plt\n",
    "import warnings\n",
    "warnings.filterwarnings('ignore')"
   ]
  },
  {
   "cell_type": "code",
   "execution_count": 2,
   "id": "9b7aef8a",
   "metadata": {},
   "outputs": [
    {
     "data": {
      "text/html": [
       "<div>\n",
       "<style scoped>\n",
       "    .dataframe tbody tr th:only-of-type {\n",
       "        vertical-align: middle;\n",
       "    }\n",
       "\n",
       "    .dataframe tbody tr th {\n",
       "        vertical-align: top;\n",
       "    }\n",
       "\n",
       "    .dataframe thead th {\n",
       "        text-align: right;\n",
       "    }\n",
       "</style>\n",
       "<table border=\"1\" class=\"dataframe\">\n",
       "  <thead>\n",
       "    <tr style=\"text-align: right;\">\n",
       "      <th></th>\n",
       "      <th>Cement</th>\n",
       "      <th>Blast Furnace Slag</th>\n",
       "      <th>Fly Ash</th>\n",
       "      <th>Water</th>\n",
       "      <th>Superplasticizer</th>\n",
       "      <th>Coarse Aggregate</th>\n",
       "      <th>Fine Aggregate</th>\n",
       "      <th>Age</th>\n",
       "      <th>Strength</th>\n",
       "    </tr>\n",
       "  </thead>\n",
       "  <tbody>\n",
       "    <tr>\n",
       "      <th>0</th>\n",
       "      <td>540.0</td>\n",
       "      <td>0.0</td>\n",
       "      <td>0.0</td>\n",
       "      <td>162.0</td>\n",
       "      <td>2.5</td>\n",
       "      <td>1040.0</td>\n",
       "      <td>676.0</td>\n",
       "      <td>28</td>\n",
       "      <td>79.99</td>\n",
       "    </tr>\n",
       "    <tr>\n",
       "      <th>1</th>\n",
       "      <td>540.0</td>\n",
       "      <td>0.0</td>\n",
       "      <td>0.0</td>\n",
       "      <td>162.0</td>\n",
       "      <td>2.5</td>\n",
       "      <td>1055.0</td>\n",
       "      <td>676.0</td>\n",
       "      <td>28</td>\n",
       "      <td>61.89</td>\n",
       "    </tr>\n",
       "    <tr>\n",
       "      <th>2</th>\n",
       "      <td>332.5</td>\n",
       "      <td>142.5</td>\n",
       "      <td>0.0</td>\n",
       "      <td>228.0</td>\n",
       "      <td>0.0</td>\n",
       "      <td>932.0</td>\n",
       "      <td>594.0</td>\n",
       "      <td>270</td>\n",
       "      <td>40.27</td>\n",
       "    </tr>\n",
       "    <tr>\n",
       "      <th>3</th>\n",
       "      <td>332.5</td>\n",
       "      <td>142.5</td>\n",
       "      <td>0.0</td>\n",
       "      <td>228.0</td>\n",
       "      <td>0.0</td>\n",
       "      <td>932.0</td>\n",
       "      <td>594.0</td>\n",
       "      <td>365</td>\n",
       "      <td>41.05</td>\n",
       "    </tr>\n",
       "    <tr>\n",
       "      <th>4</th>\n",
       "      <td>198.6</td>\n",
       "      <td>132.4</td>\n",
       "      <td>0.0</td>\n",
       "      <td>192.0</td>\n",
       "      <td>0.0</td>\n",
       "      <td>978.4</td>\n",
       "      <td>825.5</td>\n",
       "      <td>360</td>\n",
       "      <td>44.30</td>\n",
       "    </tr>\n",
       "    <tr>\n",
       "      <th>...</th>\n",
       "      <td>...</td>\n",
       "      <td>...</td>\n",
       "      <td>...</td>\n",
       "      <td>...</td>\n",
       "      <td>...</td>\n",
       "      <td>...</td>\n",
       "      <td>...</td>\n",
       "      <td>...</td>\n",
       "      <td>...</td>\n",
       "    </tr>\n",
       "    <tr>\n",
       "      <th>1025</th>\n",
       "      <td>276.4</td>\n",
       "      <td>116.0</td>\n",
       "      <td>90.3</td>\n",
       "      <td>179.6</td>\n",
       "      <td>8.9</td>\n",
       "      <td>870.1</td>\n",
       "      <td>768.3</td>\n",
       "      <td>28</td>\n",
       "      <td>44.28</td>\n",
       "    </tr>\n",
       "    <tr>\n",
       "      <th>1026</th>\n",
       "      <td>322.2</td>\n",
       "      <td>0.0</td>\n",
       "      <td>115.6</td>\n",
       "      <td>196.0</td>\n",
       "      <td>10.4</td>\n",
       "      <td>817.9</td>\n",
       "      <td>813.4</td>\n",
       "      <td>28</td>\n",
       "      <td>31.18</td>\n",
       "    </tr>\n",
       "    <tr>\n",
       "      <th>1027</th>\n",
       "      <td>148.5</td>\n",
       "      <td>139.4</td>\n",
       "      <td>108.6</td>\n",
       "      <td>192.7</td>\n",
       "      <td>6.1</td>\n",
       "      <td>892.4</td>\n",
       "      <td>780.0</td>\n",
       "      <td>28</td>\n",
       "      <td>23.70</td>\n",
       "    </tr>\n",
       "    <tr>\n",
       "      <th>1028</th>\n",
       "      <td>159.1</td>\n",
       "      <td>186.7</td>\n",
       "      <td>0.0</td>\n",
       "      <td>175.6</td>\n",
       "      <td>11.3</td>\n",
       "      <td>989.6</td>\n",
       "      <td>788.9</td>\n",
       "      <td>28</td>\n",
       "      <td>32.77</td>\n",
       "    </tr>\n",
       "    <tr>\n",
       "      <th>1029</th>\n",
       "      <td>260.9</td>\n",
       "      <td>100.5</td>\n",
       "      <td>78.3</td>\n",
       "      <td>200.6</td>\n",
       "      <td>8.6</td>\n",
       "      <td>864.5</td>\n",
       "      <td>761.5</td>\n",
       "      <td>28</td>\n",
       "      <td>32.40</td>\n",
       "    </tr>\n",
       "  </tbody>\n",
       "</table>\n",
       "<p>1030 rows × 9 columns</p>\n",
       "</div>"
      ],
      "text/plain": [
       "      Cement  Blast Furnace Slag  Fly Ash  Water  Superplasticizer  \\\n",
       "0      540.0                 0.0      0.0  162.0               2.5   \n",
       "1      540.0                 0.0      0.0  162.0               2.5   \n",
       "2      332.5               142.5      0.0  228.0               0.0   \n",
       "3      332.5               142.5      0.0  228.0               0.0   \n",
       "4      198.6               132.4      0.0  192.0               0.0   \n",
       "...      ...                 ...      ...    ...               ...   \n",
       "1025   276.4               116.0     90.3  179.6               8.9   \n",
       "1026   322.2                 0.0    115.6  196.0              10.4   \n",
       "1027   148.5               139.4    108.6  192.7               6.1   \n",
       "1028   159.1               186.7      0.0  175.6              11.3   \n",
       "1029   260.9               100.5     78.3  200.6               8.6   \n",
       "\n",
       "      Coarse Aggregate  Fine Aggregate  Age  Strength  \n",
       "0               1040.0           676.0   28     79.99  \n",
       "1               1055.0           676.0   28     61.89  \n",
       "2                932.0           594.0  270     40.27  \n",
       "3                932.0           594.0  365     41.05  \n",
       "4                978.4           825.5  360     44.30  \n",
       "...                ...             ...  ...       ...  \n",
       "1025             870.1           768.3   28     44.28  \n",
       "1026             817.9           813.4   28     31.18  \n",
       "1027             892.4           780.0   28     23.70  \n",
       "1028             989.6           788.9   28     32.77  \n",
       "1029             864.5           761.5   28     32.40  \n",
       "\n",
       "[1030 rows x 9 columns]"
      ]
     },
     "execution_count": 2,
     "metadata": {},
     "output_type": "execute_result"
    }
   ],
   "source": [
    "df=pd.read_csv(r'C:\\Users\\469111\\Downloads\\concrete_data.csv')\n",
    "df"
   ]
  },
  {
   "cell_type": "code",
   "execution_count": 3,
   "id": "c3d662b3",
   "metadata": {},
   "outputs": [
    {
     "name": "stdout",
     "output_type": "stream",
     "text": [
      "<class 'pandas.core.frame.DataFrame'>\n",
      "RangeIndex: 1030 entries, 0 to 1029\n",
      "Data columns (total 9 columns):\n",
      " #   Column              Non-Null Count  Dtype  \n",
      "---  ------              --------------  -----  \n",
      " 0   Cement              1030 non-null   float64\n",
      " 1   Blast Furnace Slag  1030 non-null   float64\n",
      " 2   Fly Ash             1030 non-null   float64\n",
      " 3   Water               1030 non-null   float64\n",
      " 4   Superplasticizer    1030 non-null   float64\n",
      " 5   Coarse Aggregate    1030 non-null   float64\n",
      " 6   Fine Aggregate      1030 non-null   float64\n",
      " 7   Age                 1030 non-null   int64  \n",
      " 8   Strength            1030 non-null   float64\n",
      "dtypes: float64(8), int64(1)\n",
      "memory usage: 72.5 KB\n"
     ]
    }
   ],
   "source": [
    "df.info()"
   ]
  },
  {
   "cell_type": "code",
   "execution_count": 3,
   "id": "d8ff5334",
   "metadata": {},
   "outputs": [
    {
     "data": {
      "text/html": [
       "<div>\n",
       "<style scoped>\n",
       "    .dataframe tbody tr th:only-of-type {\n",
       "        vertical-align: middle;\n",
       "    }\n",
       "\n",
       "    .dataframe tbody tr th {\n",
       "        vertical-align: top;\n",
       "    }\n",
       "\n",
       "    .dataframe thead th {\n",
       "        text-align: right;\n",
       "    }\n",
       "</style>\n",
       "<table border=\"1\" class=\"dataframe\">\n",
       "  <thead>\n",
       "    <tr style=\"text-align: right;\">\n",
       "      <th></th>\n",
       "      <th>Cement</th>\n",
       "      <th>Blast Furnace Slag</th>\n",
       "      <th>Fly Ash</th>\n",
       "      <th>Water</th>\n",
       "      <th>Superplasticizer</th>\n",
       "      <th>Coarse Aggregate</th>\n",
       "      <th>Fine Aggregate</th>\n",
       "      <th>Age</th>\n",
       "      <th>Strength</th>\n",
       "    </tr>\n",
       "  </thead>\n",
       "  <tbody>\n",
       "    <tr>\n",
       "      <th>count</th>\n",
       "      <td>1030.000000</td>\n",
       "      <td>1030.000000</td>\n",
       "      <td>1030.000000</td>\n",
       "      <td>1030.000000</td>\n",
       "      <td>1030.000000</td>\n",
       "      <td>1030.000000</td>\n",
       "      <td>1030.000000</td>\n",
       "      <td>1030.000000</td>\n",
       "      <td>1030.000000</td>\n",
       "    </tr>\n",
       "    <tr>\n",
       "      <th>mean</th>\n",
       "      <td>281.167864</td>\n",
       "      <td>73.895825</td>\n",
       "      <td>54.188350</td>\n",
       "      <td>181.567282</td>\n",
       "      <td>6.204660</td>\n",
       "      <td>972.918932</td>\n",
       "      <td>773.580485</td>\n",
       "      <td>45.662136</td>\n",
       "      <td>35.817961</td>\n",
       "    </tr>\n",
       "    <tr>\n",
       "      <th>std</th>\n",
       "      <td>104.506364</td>\n",
       "      <td>86.279342</td>\n",
       "      <td>63.997004</td>\n",
       "      <td>21.354219</td>\n",
       "      <td>5.973841</td>\n",
       "      <td>77.753954</td>\n",
       "      <td>80.175980</td>\n",
       "      <td>63.169912</td>\n",
       "      <td>16.705742</td>\n",
       "    </tr>\n",
       "    <tr>\n",
       "      <th>min</th>\n",
       "      <td>102.000000</td>\n",
       "      <td>0.000000</td>\n",
       "      <td>0.000000</td>\n",
       "      <td>121.800000</td>\n",
       "      <td>0.000000</td>\n",
       "      <td>801.000000</td>\n",
       "      <td>594.000000</td>\n",
       "      <td>1.000000</td>\n",
       "      <td>2.330000</td>\n",
       "    </tr>\n",
       "    <tr>\n",
       "      <th>25%</th>\n",
       "      <td>192.375000</td>\n",
       "      <td>0.000000</td>\n",
       "      <td>0.000000</td>\n",
       "      <td>164.900000</td>\n",
       "      <td>0.000000</td>\n",
       "      <td>932.000000</td>\n",
       "      <td>730.950000</td>\n",
       "      <td>7.000000</td>\n",
       "      <td>23.710000</td>\n",
       "    </tr>\n",
       "    <tr>\n",
       "      <th>50%</th>\n",
       "      <td>272.900000</td>\n",
       "      <td>22.000000</td>\n",
       "      <td>0.000000</td>\n",
       "      <td>185.000000</td>\n",
       "      <td>6.400000</td>\n",
       "      <td>968.000000</td>\n",
       "      <td>779.500000</td>\n",
       "      <td>28.000000</td>\n",
       "      <td>34.445000</td>\n",
       "    </tr>\n",
       "    <tr>\n",
       "      <th>75%</th>\n",
       "      <td>350.000000</td>\n",
       "      <td>142.950000</td>\n",
       "      <td>118.300000</td>\n",
       "      <td>192.000000</td>\n",
       "      <td>10.200000</td>\n",
       "      <td>1029.400000</td>\n",
       "      <td>824.000000</td>\n",
       "      <td>56.000000</td>\n",
       "      <td>46.135000</td>\n",
       "    </tr>\n",
       "    <tr>\n",
       "      <th>max</th>\n",
       "      <td>540.000000</td>\n",
       "      <td>359.400000</td>\n",
       "      <td>200.100000</td>\n",
       "      <td>247.000000</td>\n",
       "      <td>32.200000</td>\n",
       "      <td>1145.000000</td>\n",
       "      <td>992.600000</td>\n",
       "      <td>365.000000</td>\n",
       "      <td>82.600000</td>\n",
       "    </tr>\n",
       "  </tbody>\n",
       "</table>\n",
       "</div>"
      ],
      "text/plain": [
       "            Cement  Blast Furnace Slag      Fly Ash        Water  \\\n",
       "count  1030.000000         1030.000000  1030.000000  1030.000000   \n",
       "mean    281.167864           73.895825    54.188350   181.567282   \n",
       "std     104.506364           86.279342    63.997004    21.354219   \n",
       "min     102.000000            0.000000     0.000000   121.800000   \n",
       "25%     192.375000            0.000000     0.000000   164.900000   \n",
       "50%     272.900000           22.000000     0.000000   185.000000   \n",
       "75%     350.000000          142.950000   118.300000   192.000000   \n",
       "max     540.000000          359.400000   200.100000   247.000000   \n",
       "\n",
       "       Superplasticizer  Coarse Aggregate  Fine Aggregate          Age  \\\n",
       "count       1030.000000       1030.000000     1030.000000  1030.000000   \n",
       "mean           6.204660        972.918932      773.580485    45.662136   \n",
       "std            5.973841         77.753954       80.175980    63.169912   \n",
       "min            0.000000        801.000000      594.000000     1.000000   \n",
       "25%            0.000000        932.000000      730.950000     7.000000   \n",
       "50%            6.400000        968.000000      779.500000    28.000000   \n",
       "75%           10.200000       1029.400000      824.000000    56.000000   \n",
       "max           32.200000       1145.000000      992.600000   365.000000   \n",
       "\n",
       "          Strength  \n",
       "count  1030.000000  \n",
       "mean     35.817961  \n",
       "std      16.705742  \n",
       "min       2.330000  \n",
       "25%      23.710000  \n",
       "50%      34.445000  \n",
       "75%      46.135000  \n",
       "max      82.600000  "
      ]
     },
     "execution_count": 3,
     "metadata": {},
     "output_type": "execute_result"
    }
   ],
   "source": [
    "df.describe()"
   ]
  },
  {
   "cell_type": "code",
   "execution_count": 4,
   "id": "557f77af",
   "metadata": {},
   "outputs": [
    {
     "data": {
      "text/plain": [
       "['Cement',\n",
       " 'Blast Furnace Slag',\n",
       " 'Fly Ash',\n",
       " 'Water',\n",
       " 'Superplasticizer',\n",
       " 'Coarse Aggregate',\n",
       " 'Fine Aggregate',\n",
       " 'Age',\n",
       " 'Strength']"
      ]
     },
     "execution_count": 4,
     "metadata": {},
     "output_type": "execute_result"
    }
   ],
   "source": [
    "col_name=df.columns.tolist()\n",
    "col_name"
   ]
  },
  {
   "cell_type": "code",
   "execution_count": null,
   "id": "9ba8b530",
   "metadata": {},
   "outputs": [],
   "source": [
    "#1) Write a python function that provides statistics of \n",
    "#cement data that have the water level more than 180 and flyash less than 100?"
   ]
  },
  {
   "cell_type": "code",
   "execution_count": 17,
   "id": "b4aa30f9",
   "metadata": {},
   "outputs": [
    {
     "data": {
      "text/plain": [
       "<AxesSubplot:xlabel='Water', ylabel='Fly Ash'>"
      ]
     },
     "execution_count": 17,
     "metadata": {},
     "output_type": "execute_result"
    },
    {
     "data": {
      "image/png": "[encoded data removed]",
      "text/plain": [
       "<Figure size 640x480 with 1 Axes>"
      ]
     },
     "metadata": {},
     "output_type": "display_data"
    }
   ],
   "source": [
    "data=df.loc[df['Water'] > 180 & (df['Fly Ash'] <100)]\n",
    "sns.scatterplot(x='Water',y='Fly Ash',data=data)"
   ]
  },
  {
   "cell_type": "code",
   "execution_count": null,
   "id": "a08d10b6",
   "metadata": {},
   "outputs": [],
   "source": [
    "#2) Write a python function that returns the number of instances where strength of \n",
    "#the cement is more than the average value of the Cement column."
   ]
  },
  {
   "cell_type": "code",
   "execution_count": 22,
   "id": "e7b6af61",
   "metadata": {},
   "outputs": [],
   "source": [
    "def fun2():\n",
    "    data=df.loc[(df['Strength'] > (df['Cement'].mean()))]\n",
    "    print(\" Number of instances where strength of the cement is more than the average value of the Cement column:\",data.count().sum())\n",
    "    "
   ]
  },
  {
   "cell_type": "code",
   "execution_count": 23,
   "id": "b788e67f",
   "metadata": {},
   "outputs": [
    {
     "name": "stdout",
     "output_type": "stream",
     "text": [
      " Number of instances where strength of the cement is more than the average value of the Cement column: 0\n"
     ]
    }
   ],
   "source": [
    "fun2()"
   ]
  },
  {
   "cell_type": "code",
   "execution_count": null,
   "id": "f0eb5304",
   "metadata": {},
   "outputs": [],
   "source": [
    "#3) Write a python function that takes two user inputs as features and provides the correlation between them."
   ]
  },
  {
   "cell_type": "code",
   "execution_count": 4,
   "id": "aa09aeba",
   "metadata": {},
   "outputs": [],
   "source": [
    "from scipy.stats import pearsonr\n",
    "#col_name=df.columns.tolist()\n",
    "#col_name"
   ]
  },
  {
   "cell_type": "code",
   "execution_count": 46,
   "id": "e441ad22",
   "metadata": {},
   "outputs": [],
   "source": [
    "def feature():\n",
    "    Feature1 = input(\"Enter the Feature1:\")\n",
    "    Feature2 = input(\"Enter the Feature2:\")\n",
    "    corr, _ = pearsonr(df[Feature1], df[Feature2])\n",
    "    print('Correlation: %.3f' % corr)\n",
    "       "
   ]
  },
  {
   "cell_type": "code",
   "execution_count": 47,
   "id": "a33dd45d",
   "metadata": {},
   "outputs": [
    {
     "name": "stdout",
     "output_type": "stream",
     "text": [
      "Enter the Feature1:Superplasticizer\n",
      "Enter the Feature2:Coarse Aggregate\n",
      "Correlation: -0.266\n"
     ]
    }
   ],
   "source": [
    "feature()"
   ]
  },
  {
   "cell_type": "code",
   "execution_count": 6,
   "id": "351854e0",
   "metadata": {},
   "outputs": [
    {
     "data": {
      "text/plain": [
       "PearsonRResult(statistic=-0.2659991481862892, pvalue=3.8405591528819655e-18)"
      ]
     },
     "execution_count": 6,
     "metadata": {},
     "output_type": "execute_result"
    }
   ],
   "source": [
    "pearsonr(df['Superplasticizer'], df['Coarse Aggregate'])"
   ]
  },
  {
   "cell_type": "code",
   "execution_count": null,
   "id": "a568dd14",
   "metadata": {},
   "outputs": [],
   "source": [
    "#4) Write a python function to create a new column \n",
    "#showing the difference between Coarse Aggregate and Fine Aggregate?"
   ]
  },
  {
   "cell_type": "code",
   "execution_count": null,
   "id": "ffe427f2",
   "metadata": {},
   "outputs": [],
   "source": [
    "def difffun():\n",
    "    df['difference']=df['Coarse Aggregate']-df['Fine Aggregate']"
   ]
  },
  {
   "cell_type": "code",
   "execution_count": null,
   "id": "1ecc9f88",
   "metadata": {},
   "outputs": [],
   "source": [
    "difffun()\n",
    "df"
   ]
  },
  {
   "cell_type": "code",
   "execution_count": null,
   "id": "b5120c54",
   "metadata": {},
   "outputs": [],
   "source": [
    "#5) Write a python function that will create a new column which transforms the \n",
    "#value of Age of cement in months. NOTE: Take (30days) as standard value?"
   ]
  },
  {
   "cell_type": "code",
   "execution_count": null,
   "id": "5c18b90a",
   "metadata": {},
   "outputs": [],
   "source": [
    "def calulatemonths():\n",
    "    df['AgeInMonths']=df['Age']*12\n",
    "    df"
   ]
  },
  {
   "cell_type": "code",
   "execution_count": null,
   "id": "33970d37",
   "metadata": {},
   "outputs": [],
   "source": [
    "calulatemonths()\n",
    "df"
   ]
  },
  {
   "cell_type": "code",
   "execution_count": null,
   "id": "15b3fa61",
   "metadata": {},
   "outputs": [],
   "source": [
    "#6) It was observed that the average value of coarse aggregate was 900 has it changed now, \n",
    "#support your findings with the help of hypothesis testing."
   ]
  },
  {
   "cell_type": "code",
   "execution_count": 48,
   "id": "9c6abb01",
   "metadata": {},
   "outputs": [
    {
     "data": {
      "text/plain": [
       "972.9189320388344"
      ]
     },
     "execution_count": 48,
     "metadata": {},
     "output_type": "execute_result"
    }
   ],
   "source": [
    "df['Coarse Aggregate'].mean()"
   ]
  },
  {
   "cell_type": "code",
   "execution_count": 49,
   "id": "b04f31a8",
   "metadata": {},
   "outputs": [],
   "source": [
    "#Ho : average value of coarse aggregate was 900 has not changes\n",
    "#h1: average value of coarse aggregate was 900 has changed Now"
   ]
  },
  {
   "cell_type": "code",
   "execution_count": 50,
   "id": "7da53f4c",
   "metadata": {},
   "outputs": [],
   "source": [
    "from scipy import stats  \n",
    "from statsmodels.stats import weightstats as stests  \n",
    "from scipy.stats import ttest_ind \n",
    "from scipy.stats import ttest_1samp  "
   ]
  },
  {
   "cell_type": "code",
   "execution_count": 55,
   "id": "d9ed4c83",
   "metadata": {},
   "outputs": [
    {
     "name": "stdout",
     "output_type": "stream",
     "text": [
      "The P-value is:  2.9081934469654628e-143 \n",
      "\n",
      " We can reject the null hypothesis\n"
     ]
    }
   ],
   "source": [
    "t_test, p_val = ttest_1samp(df['Coarse Aggregate'], 900)  \n",
    "print(\"The P-value is: \", p_val,'\\n')  \n",
    "if (p_val < 0.05):      \n",
    "    print(\" We can reject the null hypothesis\")  \n",
    "else:  \n",
    "    print(\"We can accept the null hypothesis\")  "
   ]
  },
  {
   "cell_type": "code",
   "execution_count": null,
   "id": "01ae495e",
   "metadata": {},
   "outputs": [],
   "source": [
    "#7) Create a Feature Selection strategy for the given data to predict the strength of the cement."
   ]
  },
  {
   "cell_type": "code",
   "execution_count": 56,
   "id": "591c45da",
   "metadata": {},
   "outputs": [],
   "source": [
    "from sklearn.model_selection import train_test_split\n",
    "X = df.drop(['Strength'], axis=1)\n",
    "y = df['Strength']\n",
    "num_features = [feature for feature in X.columns if X[feature].dtype != 'O']"
   ]
  },
  {
   "cell_type": "code",
   "execution_count": 57,
   "id": "73e28ea9",
   "metadata": {},
   "outputs": [],
   "source": [
    "from statsmodels.stats.outliers_influence import variance_inflation_factor\n",
    "num_features = [feature for feature in X.columns if X[feature].dtype != 'O']\n",
    "def compute_vif(considered_features, df):\n",
    "    \n",
    "    X = df[considered_features]\n",
    "    # the calculation of variance inflation requires a constant\n",
    "    X['intercept'] = 1\n",
    "    \n",
    "    # create dataframe to store vif values\n",
    "    vif = pd.DataFrame()\n",
    "    vif[\"Variable\"] = X.columns\n",
    "    vif[\"VIF\"] = [variance_inflation_factor(X.values, i) for i in range(X.shape[1])]\n",
    "    vif = vif[vif['Variable']!='intercept']\n",
    "    return vif"
   ]
  },
  {
   "cell_type": "code",
   "execution_count": 58,
   "id": "70834783",
   "metadata": {},
   "outputs": [
    {
     "data": {
      "text/html": [
       "<div>\n",
       "<style scoped>\n",
       "    .dataframe tbody tr th:only-of-type {\n",
       "        vertical-align: middle;\n",
       "    }\n",
       "\n",
       "    .dataframe tbody tr th {\n",
       "        vertical-align: top;\n",
       "    }\n",
       "\n",
       "    .dataframe thead th {\n",
       "        text-align: right;\n",
       "    }\n",
       "</style>\n",
       "<table border=\"1\" class=\"dataframe\">\n",
       "  <thead>\n",
       "    <tr style=\"text-align: right;\">\n",
       "      <th></th>\n",
       "      <th>Variable</th>\n",
       "      <th>VIF</th>\n",
       "    </tr>\n",
       "  </thead>\n",
       "  <tbody>\n",
       "    <tr>\n",
       "      <th>0</th>\n",
       "      <td>Cement</td>\n",
       "      <td>7.488944</td>\n",
       "    </tr>\n",
       "    <tr>\n",
       "      <th>1</th>\n",
       "      <td>Blast Furnace Slag</td>\n",
       "      <td>7.276963</td>\n",
       "    </tr>\n",
       "    <tr>\n",
       "      <th>2</th>\n",
       "      <td>Fly Ash</td>\n",
       "      <td>6.170634</td>\n",
       "    </tr>\n",
       "    <tr>\n",
       "      <th>3</th>\n",
       "      <td>Water</td>\n",
       "      <td>7.003957</td>\n",
       "    </tr>\n",
       "    <tr>\n",
       "      <th>4</th>\n",
       "      <td>Superplasticizer</td>\n",
       "      <td>2.963776</td>\n",
       "    </tr>\n",
       "    <tr>\n",
       "      <th>5</th>\n",
       "      <td>Coarse Aggregate</td>\n",
       "      <td>5.074617</td>\n",
       "    </tr>\n",
       "    <tr>\n",
       "      <th>6</th>\n",
       "      <td>Fine Aggregate</td>\n",
       "      <td>7.005081</td>\n",
       "    </tr>\n",
       "    <tr>\n",
       "      <th>7</th>\n",
       "      <td>Age</td>\n",
       "      <td>1.118367</td>\n",
       "    </tr>\n",
       "  </tbody>\n",
       "</table>\n",
       "</div>"
      ],
      "text/plain": [
       "             Variable       VIF\n",
       "0              Cement  7.488944\n",
       "1  Blast Furnace Slag  7.276963\n",
       "2             Fly Ash  6.170634\n",
       "3               Water  7.003957\n",
       "4    Superplasticizer  2.963776\n",
       "5    Coarse Aggregate  5.074617\n",
       "6      Fine Aggregate  7.005081\n",
       "7                 Age  1.118367"
      ]
     },
     "execution_count": 58,
     "metadata": {},
     "output_type": "execute_result"
    }
   ],
   "source": [
    "compute_vif(num_features, df)"
   ]
  },
  {
   "cell_type": "code",
   "execution_count": null,
   "id": "a2b86dc1",
   "metadata": {},
   "outputs": [],
   "source": [
    "# droping blast_furnace_slag\n",
    "df = df.drop(columns =['Blast Furnace Slag'])"
   ]
  },
  {
   "cell_type": "code",
   "execution_count": null,
   "id": "c3ad2c5d",
   "metadata": {},
   "outputs": [],
   "source": [
    "#8) Create a Prediction model that will predict the strength of the cement. \n",
    "#(Note: we will use the MSE for evaluation, put your best solution that you think gives you the least error)."
   ]
  },
  {
   "cell_type": "code",
   "execution_count": 60,
   "id": "4406102e",
   "metadata": {},
   "outputs": [],
   "source": [
    "from sklearn.model_selection import train_test_split\n",
    "x=df.drop('Strength',axis=1)\n",
    "y=df['Strength']\n",
    "x_train,x_test,y_train,y_test=train_test_split(x,y,train_size=0.8,random_state=2)"
   ]
  },
  {
   "cell_type": "code",
   "execution_count": 61,
   "id": "56ff22a8",
   "metadata": {},
   "outputs": [],
   "source": [
    "from sklearn.preprocessing import StandardScaler\n",
    "\n",
    "sc = StandardScaler()\n",
    "X_scaled = sc.fit_transform(x)"
   ]
  },
  {
   "cell_type": "code",
   "execution_count": 62,
   "id": "ffbb0e62",
   "metadata": {},
   "outputs": [
    {
     "data": {
      "text/plain": [
       "array([27.59040946, 22.6387881 , 17.85253903, 32.28016745, 31.69451618,\n",
       "       38.23815475, 30.31743389, 51.79006286, 19.04693117, 10.84739247,\n",
       "       21.88595615, 27.02447869, 54.52301557, 44.78610961, 32.54164879,\n",
       "       54.52301557, 26.58582207, 38.26229495, 61.23986267, 28.55821983,\n",
       "       20.05599578, 27.20876399, 23.33110475, 17.73603412, 37.14946311,\n",
       "       25.25299743, 43.84757654, 36.29497932, 22.76436008, 25.54798024,\n",
       "       55.19475365, 22.7962835 , 24.79863077, 49.4923    , 41.65970767,\n",
       "       18.15942939, 31.28951093, 20.2166102 , 38.29173689, 28.43709695,\n",
       "       60.10872283, 35.17724771, 23.79142052, 36.09788169, 42.62302413,\n",
       "       34.53987699, 26.14678366, 16.24243352, 67.64312694, 23.9331589 ,\n",
       "       25.4583339 , 37.98567938, 64.25837713, 46.98221763, 33.7844206 ,\n",
       "       43.57007216, 25.44368318, 38.16302936, 33.39796744, 37.91292943,\n",
       "       54.20462631, 48.44801701, 28.61035186, 26.12004216, 47.73318363,\n",
       "       16.22869952, 23.10395736, 35.36838225, 61.09166714, 23.13552043,\n",
       "       31.17972452, 26.47951416, 32.7783739 , 35.00572595, 28.53049647,\n",
       "       35.20148336, 35.7468235 , 26.8680716 , 19.53863943, 22.38245679,\n",
       "       30.21849505, 23.60545271, 18.52437979, 28.51095363, 51.41191738,\n",
       "       28.66532044, 21.05846781, 49.40762297, 37.86503338, 44.75142199,\n",
       "       23.75771532, 30.18225218, 35.35006466, 12.44277795, 23.87908097,\n",
       "       24.91308372, 40.4125526 , 21.01511038, 21.35139089, 36.92647819,\n",
       "       20.81727891, 24.05867512, 36.08272964, 33.6467942 , 31.37313522,\n",
       "       50.49571124, 36.72396482, 27.65049568, 37.93910719, 48.42598606,\n",
       "       50.57223042, 60.43224333, 27.08448711, 53.86524931, 35.06356855,\n",
       "       40.07524631, 27.29982189, 24.68929158, 51.149689  , 39.94142521,\n",
       "       36.48125567, 47.48908713, 49.1162371 , 28.13519126, 48.4207728 ,\n",
       "       33.69864191, 48.07138956, 37.97736147, 34.84642629, 33.10240561,\n",
       "       25.55403359, 24.56660524, 55.83685789, 29.16686228, 15.12639088,\n",
       "       29.77819103, 14.85519182, 22.03105674, 33.94420625, 44.24637174,\n",
       "       23.62864639, 31.50550398, 24.80431474, 60.43224333, 31.91701958,\n",
       "       53.1375501 , 34.7017694 , 42.62197516, 31.08768315, 21.64594246,\n",
       "       64.05576628, 31.91396805, 54.14371445, 59.9375742 , 17.85253903,\n",
       "       31.78381411, 30.95129718, 44.3406629 , 20.68565441, 51.33271899,\n",
       "       52.00746262, 42.50376294, 53.18560781, 48.4207728 , 51.98104631,\n",
       "       28.30637867, 21.76566982, 34.73897541, 31.49307143, 32.79200119,\n",
       "       29.60862754, 25.59089163, 33.93298373, 48.06856933, 55.44600292,\n",
       "       21.72715636, 28.1143802 , 31.03948048, 39.958109  , 51.20473063,\n",
       "       25.33761808, 33.38111637, 38.53556681, 27.12134514, 61.19176188,\n",
       "       18.30339716, 17.85934359, 40.99873763, 25.49505051, 36.88285233,\n",
       "       21.29467428, 61.09166714, 40.28313396, 13.82042932, 20.00555577,\n",
       "       54.71713644, 36.83900054, 23.80364702, 51.90894603, 57.26553335,\n",
       "       33.6166786 , 26.22401856, 37.90683628, 19.11539299, 26.76231756,\n",
       "       64.25837713])"
      ]
     },
     "execution_count": 62,
     "metadata": {},
     "output_type": "execute_result"
    }
   ],
   "source": [
    "#LinerRegression Model:\n",
    "from sklearn.linear_model import LinearRegression\n",
    "l_model=LinearRegression()\n",
    "l_model.fit(x_train,y_train)\n",
    "predictions=l_model.predict(x_test)\n",
    "predictions"
   ]
  },
  {
   "cell_type": "code",
   "execution_count": 63,
   "id": "dad6689f",
   "metadata": {},
   "outputs": [],
   "source": [
    "error_pred=pd.DataFrame(columns={'Actual_data','Prediction_data'})\n",
    "error_pred['Actual_data']=y_test\n",
    "error_pred['Prediction_data']=predictions\n",
    "error_pred['Error']=error_pred['Actual_data']-error_pred['Prediction_data']"
   ]
  },
  {
   "cell_type": "code",
   "execution_count": 66,
   "id": "ece93bb8",
   "metadata": {},
   "outputs": [],
   "source": [
    "from sklearn.metrics import *\n",
    "r2score=r2_score(y_test,predictions)"
   ]
  },
  {
   "cell_type": "code",
   "execution_count": 67,
   "id": "2e97f382",
   "metadata": {},
   "outputs": [
    {
     "data": {
      "text/plain": [
       "10.284178249008416"
      ]
     },
     "execution_count": 67,
     "metadata": {},
     "output_type": "execute_result"
    }
   ],
   "source": [
    "mean_squared_error(y_test,predictions,squared=False)"
   ]
  },
  {
   "cell_type": "code",
   "execution_count": 68,
   "id": "c7085961",
   "metadata": {},
   "outputs": [
    {
     "data": {
      "text/plain": [
       "0.322089673710779"
      ]
     },
     "execution_count": 68,
     "metadata": {},
     "output_type": "execute_result"
    }
   ],
   "source": [
    "mean_absolute_percentage_error(y_test,predictions)"
   ]
  },
  {
   "cell_type": "code",
   "execution_count": 69,
   "id": "851cb29a",
   "metadata": {},
   "outputs": [
    {
     "data": {
      "text/plain": [
       "<matplotlib.collections.PathCollection at 0x28e30a31be0>"
      ]
     },
     "execution_count": 69,
     "metadata": {},
     "output_type": "execute_result"
    },
    {
     "data": {
      "image/png": "[encoded data removed]",
      "text/plain": [
       "<Figure size 500x500 with 1 Axes>"
      ]
     },
     "metadata": {},
     "output_type": "display_data"
    }
   ],
   "source": [
    "plt.figure(figsize=(5,5))\n",
    "plt.scatter(error_pred['Actual_data'],error_pred['Prediction_data'])"
   ]
  },
  {
   "cell_type": "code",
   "execution_count": 70,
   "id": "d323c910",
   "metadata": {},
   "outputs": [],
   "source": [
    "#XGBoost\n",
    "x=df.drop('Strength',axis=1)\n",
    "y=df['Strength']\n",
    "x_train,x_test,y_train,y_test=train_test_split(x,y,train_size=0.8,random_state=2)"
   ]
  },
  {
   "cell_type": "code",
   "execution_count": 71,
   "id": "aa8a5b88",
   "metadata": {},
   "outputs": [],
   "source": [
    "from sklearn.preprocessing import StandardScaler\n",
    "\n",
    "sc = StandardScaler()\n",
    "X_scaled = sc.fit_transform(x)"
   ]
  },
  {
   "cell_type": "code",
   "execution_count": 72,
   "id": "ce3e2e28",
   "metadata": {},
   "outputs": [
    {
     "data": {
      "text/plain": [
       "0.9092980126066208"
      ]
     },
     "execution_count": 72,
     "metadata": {},
     "output_type": "execute_result"
    }
   ],
   "source": [
    "from xgboost import XGBRegressor\n",
    "from sklearn.metrics import r2_score\n",
    "\n",
    "xgb = XGBRegressor()\n",
    "xgb.fit(x_train, y_train)\n",
    "y_pred = xgb.predict(x_test)\n",
    "r2_score(y_test, y_pred)"
   ]
  },
  {
   "cell_type": "code",
   "execution_count": 73,
   "id": "fbd207c4",
   "metadata": {},
   "outputs": [
    {
     "data": {
      "image/png": "[encoded data removed]",
      "text/plain": [
       "<Figure size 640x480 with 1 Axes>"
      ]
     },
     "metadata": {},
     "output_type": "display_data"
    }
   ],
   "source": [
    "plt.figure()\n",
    "plt.scatter(y_test, y_pred)\n",
    "plt.scatter(y_test, y_test)\n",
    "plt.plot(y_test, y_test)\n",
    "plt.legend([\"Predicted\", \"Original\", \"Regression Line\"])\n",
    "plt.show()"
   ]
  },
  {
   "cell_type": "code",
   "execution_count": 74,
   "id": "fdc7ec91",
   "metadata": {},
   "outputs": [
    {
     "data": {
      "text/plain": [
       "4.723908533791215"
      ]
     },
     "execution_count": 74,
     "metadata": {},
     "output_type": "execute_result"
    }
   ],
   "source": [
    "mean_squared_error(y_test,y_pred,squared=False)"
   ]
  },
  {
   "cell_type": "code",
   "execution_count": 75,
   "id": "914e5e8f",
   "metadata": {},
   "outputs": [
    {
     "data": {
      "text/plain": [
       "0.10570623430443551"
      ]
     },
     "execution_count": 75,
     "metadata": {},
     "output_type": "execute_result"
    }
   ],
   "source": [
    "mean_absolute_percentage_error(y_test,y_pred)"
   ]
  },
  {
   "cell_type": "code",
   "execution_count": null,
   "id": "5a08f10f",
   "metadata": {},
   "outputs": [],
   "source": [
    "Conclution: Mean error of XGBRegressor is less than LinearRegression Model"
   ]
  },
  {
   "cell_type": "code",
   "execution_count": 76,
   "id": "80e1f576",
   "metadata": {},
   "outputs": [],
   "source": [
    "#10) What is the probability to get a fine aggregate more than 700 if the value of coarse aggregate is 970?"
   ]
  },
  {
   "cell_type": "code",
   "execution_count": 77,
   "id": "cf11be40",
   "metadata": {},
   "outputs": [
    {
     "name": "stdout",
     "output_type": "stream",
     "text": [
      "0.0002469097757717133\n"
     ]
    }
   ],
   "source": [
    "from scipy.stats import norm\n",
    "import numpy as np\n",
    "  \n",
    "data=df['Fine Aggregate'].values.tolist()\n",
    "data1=df['Coarse Aggregate'].values.tolist()\n",
    "\n",
    "mean = np.mean(data)\n",
    "std = np.std(data)\n",
    "  \n",
    "probability_pdf = norm.pdf(970, loc=mean, scale=std)\n",
    "print(probability_pdf)\n",
    "\n",
    "# As the pdf is 0.00024, it shows probability to get a fine aggregate more than 700 \n",
    "#if the value of coarse aggregate is 970 in chance of .02 % which is very less."
   ]
  },
  {
   "cell_type": "markdown",
   "id": "72e1c87f",
   "metadata": {},
   "source": [
    "# SQL query"
   ]
  },
  {
   "cell_type": "code",
   "execution_count": null,
   "id": "038480bc",
   "metadata": {},
   "outputs": [],
   "source": [
    "# 09) Write an SQL query to find out how many records have a water content greater than 200?\n",
    "\n",
    "select * \n",
    "FROM [prt].[dbo].[concrete_data]\n",
    "where water > 200"
   ]
  },
  {
   "cell_type": "code",
   "execution_count": null,
   "id": "bfe415f5",
   "metadata": {},
   "outputs": [],
   "source": [
    "#11) Write an SQL query to find out how many records have a blast furnace slag content less than 100 and a superplasticizer content greater than 10?\n",
    "\n",
    "select count(*)\n",
    "FROM [prt].[dbo].[concrete_data]\n",
    "where Blast_Furnace_Slag < 100 and Superplasticizer > 10"
   ]
  },
  {
   "cell_type": "code",
   "execution_count": null,
   "id": "da005d0c",
   "metadata": {},
   "outputs": [],
   "source": [
    "#12) Write an SQL query to retrieve the top 10% records with the highest strength values.\n",
    "\n",
    "select top 10 Strength\n",
    "FROM [prt].[dbo].[concrete_data]\n",
    "order by Strength desc\n"
   ]
  },
  {
   "cell_type": "code",
   "execution_count": null,
   "id": "20092681",
   "metadata": {},
   "outputs": [],
   "source": [
    "#13) Write an SQL query to find out how many records are there where the strength of concrete is above the average strength?\n",
    "\n",
    "select COUNT(*) as NumberOfRecords\n",
    "FROM [prt].[dbo].[concrete_data]\n",
    "where Strength >= (select AVG(strength) FROM [prt].[dbo].[concrete_data]) "
   ]
  },
  {
   "cell_type": "code",
   "execution_count": null,
   "id": "c434d7b8",
   "metadata": {},
   "outputs": [],
   "source": [
    "#14) Write an SQL query to calculate the cumulative sum of water content for each age group?\n",
    "\n",
    "select SUM(water) AS cumulativesumofwater,Age\n",
    "FROM [prt].[dbo].[concrete_data]\n",
    "group by Age\n",
    "ORDER BY Age"
   ]
  }
 ],
 "metadata": {
  "kernelspec": {
   "display_name": "Python 3 (ipykernel)",
   "language": "python",
   "name": "python3"
  },
  "language_info": {
   "codemirror_mode": {
    "name": "ipython",
    "version": 3
   },
   "file_extension": ".py",
   "mimetype": "text/x-python",
   "name": "python",
   "nbconvert_exporter": "python",
   "pygments_lexer": "ipython3",
   "version": "3.9.13"
  }
 },
 "nbformat": 4,
 "nbformat_minor": 5
}
